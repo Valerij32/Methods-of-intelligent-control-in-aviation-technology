{
 "cells": [
  {
   "cell_type": "markdown",
   "id": "7c86e958",
   "metadata": {},
   "source": [
    "Самостоятельное задание №6"
   ]
  },
  {
   "cell_type": "markdown",
   "id": "a869961c",
   "metadata": {},
   "source": [
    "Задание 1"
   ]
  },
  {
   "cell_type": "markdown",
   "id": "43234e47",
   "metadata": {},
   "source": [
    "Допишите функцию, которая принимает несколько параметров. Первый параметр - словарь, второй параметр - один из ключей данного словаря. Функция должна выводить значение этого ключа."
   ]
  },
  {
   "cell_type": "code",
   "execution_count": 2,
   "id": "1242e167",
   "metadata": {},
   "outputs": [],
   "source": [
    "d = {'one': 21, 'two': 33, 'three': 0.22, 'four': 77}"
   ]
  },
  {
   "cell_type": "code",
   "execution_count": 3,
   "id": "67b7d30a",
   "metadata": {},
   "outputs": [],
   "source": [
    "k = 'three'"
   ]
  },
  {
   "cell_type": "code",
   "execution_count": 4,
   "id": "3c3816e4",
   "metadata": {},
   "outputs": [
    {
     "name": "stdout",
     "output_type": "stream",
     "text": [
      "0.22\n"
     ]
    }
   ],
   "source": [
    "print(d[k])"
   ]
  },
  {
   "cell_type": "code",
   "execution_count": null,
   "id": "f3cd447c",
   "metadata": {},
   "outputs": [],
   "source": []
  }
 ],
 "metadata": {
  "kernelspec": {
   "display_name": "Python 3 (ipykernel)",
   "language": "python",
   "name": "python3"
  },
  "language_info": {
   "codemirror_mode": {
    "name": "ipython",
    "version": 3
   },
   "file_extension": ".py",
   "mimetype": "text/x-python",
   "name": "python",
   "nbconvert_exporter": "python",
   "pygments_lexer": "ipython3",
   "version": "3.8.12"
  }
 },
 "nbformat": 4,
 "nbformat_minor": 5
}
