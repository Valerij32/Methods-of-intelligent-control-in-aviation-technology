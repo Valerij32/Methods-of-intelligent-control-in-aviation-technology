{
 "cells": [
  {
   "cell_type": "markdown",
   "metadata": {},
   "source": [
    "# Домашнее задание #1"
   ]
  },
  {
   "cell_type": "markdown",
   "metadata": {},
   "source": [
    "Для начала вам понадобится импортировать модуль `numpy` как `np`"
   ]
  },
  {
   "cell_type": "code",
   "execution_count": 1,
   "metadata": {},
   "outputs": [],
   "source": [
    "import numpy as np"
   ]
  },
  {
   "cell_type": "markdown",
   "metadata": {},
   "source": [
    "## Задача №1"
   ]
  },
  {
   "cell_type": "markdown",
   "metadata": {},
   "source": [
    "Считайте (через `input`) 2 числа: <br>\n",
    "`n` - размер `Numpy` вектора; <br>\n",
    "`x` - координата элемента вектора, который должен быть равен `1`. Остальные должны быть равны `0`. <br>\n",
    "Создайте вектор размера `n`, в котором все элементы равны `0`, кроме элемента с номером `x` - он равен `1`.\n"
   ]
  },
  {
   "cell_type": "code",
   "execution_count": 15,
   "metadata": {},
   "outputs": [
    {
     "name": "stdout",
     "output_type": "stream",
     "text": [
      "Введите размер вектора и номер элемента через пробел\n",
      "5 4\n",
      "[0. 0. 0. 0. 1.]\n"
     ]
    }
   ],
   "source": [
    "print (\"Введите размер вектора и номер элемента через пробел\")\n",
    "n, x = map(int, input().split())\n",
    "\n",
    "if x>4: #проверка, если x>n\n",
    "    print (\"*! Номер элемента превышает размер вектора, введите снова !*\")\n",
    "    n, x = map(int, input().split())\n",
    "\n",
    "vec = np.zeros(n)\n",
    "vec[x] = 1\n",
    "\n",
    "print (vec)"
   ]
  },
  {
   "cell_type": "markdown",
   "metadata": {},
   "source": [
    "## Задача №2"
   ]
  },
  {
   "cell_type": "markdown",
   "metadata": {},
   "source": [
    "Считайте 3 числа: `n, m, s`. Создайте `Numpy` вектор, состоящий из чисел от `n` до `m` с шагом `s`."
   ]
  },
  {
   "cell_type": "code",
   "execution_count": 24,
   "metadata": {},
   "outputs": [
    {
     "name": "stdout",
     "output_type": "stream",
     "text": [
      "[1 3 5]\n"
     ]
    }
   ],
   "source": [
    "n = 1\n",
    "m = 6\n",
    "s = 2\n",
    "vec = np.arange(n, m, s)\n",
    "print (vec)"
   ]
  },
  {
   "cell_type": "markdown",
   "metadata": {},
   "source": [
    "## Задача №3"
   ]
  },
  {
   "cell_type": "markdown",
   "metadata": {},
   "source": [
    "Создайте матрицу `3х3` со значениями от `0` до `8`. Значения нужно сгенерировать."
   ]
  },
  {
   "cell_type": "code",
   "execution_count": 67,
   "metadata": {},
   "outputs": [
    {
     "name": "stdout",
     "output_type": "stream",
     "text": [
      "[[8 3 0]\n",
      " [0 0 8]\n",
      " [0 6 6]]\n"
     ]
    }
   ],
   "source": [
    "print (np.random.randint(0, 9, (3,3)))"
   ]
  },
  {
   "cell_type": "markdown",
   "metadata": {},
   "source": [
    "## Задача №4"
   ]
  },
  {
   "cell_type": "markdown",
   "metadata": {},
   "source": [
    "1. Создайте матрицу `4х4` со случайными значениями.\n",
    "2. Найдите максимальное значение первой строки, минимальное - второй, среднее - третьей, сумму - четвертой."
   ]
  },
  {
   "cell_type": "code",
   "execution_count": 66,
   "metadata": {},
   "outputs": [
    {
     "name": "stdout",
     "output_type": "stream",
     "text": [
      "[[0 0 6 4]\n",
      " [3 3 2 9]\n",
      " [2 3 7 0]\n",
      " [9 1 7 2]]\n",
      "Макс. знач. = 6\n",
      "Мин. знач. = 2\n",
      "Среднее знач. = 3.0\n",
      "Сумма = 19\n"
     ]
    }
   ],
   "source": [
    "myMatrix = np.random.randint(0, 10, size=(4,4))\n",
    "print (myMatrix)\n",
    "\n",
    "print (f'Макс. знач. = {np.max(myMatrix[0, :])}')\n",
    "print (f'Мин. знач. = {np.min(myMatrix[1, :])}')\n",
    "print (f'Среднее знач. = {np.mean(myMatrix[2, :])}')\n",
    "print (f'Сумма = {np.sum(myMatrix[3, :])}')"
   ]
  },
  {
   "cell_type": "markdown",
   "metadata": {},
   "source": [
    "## Задача №5"
   ]
  },
  {
   "cell_type": "markdown",
   "metadata": {},
   "source": [
    "Создайте диагональную матрицу `5х5`, все ненулевые элементы равны 5."
   ]
  },
  {
   "cell_type": "code",
   "execution_count": 60,
   "metadata": {},
   "outputs": [
    {
     "name": "stdout",
     "output_type": "stream",
     "text": [
      "[[5. 0. 0. 0. 0.]\n",
      " [0. 5. 0. 0. 0.]\n",
      " [0. 0. 5. 0. 0.]\n",
      " [0. 0. 0. 5. 0.]\n",
      " [0. 0. 0. 0. 5.]]\n"
     ]
    }
   ],
   "source": [
    "print (np.eye(5,5)*5)"
   ]
  },
  {
   "cell_type": "markdown",
   "metadata": {},
   "source": [
    "## Задача №6"
   ]
  },
  {
   "cell_type": "markdown",
   "metadata": {},
   "source": [
    "Создайте `Numpy` массив случайных чисел размерности `6х6х6` и найдите максимальное значение среди всех элементов."
   ]
  },
  {
   "cell_type": "code",
   "execution_count": 65,
   "metadata": {},
   "outputs": [
    {
     "name": "stdout",
     "output_type": "stream",
     "text": [
      "Максимальное число матрицы = 9\n"
     ]
    }
   ],
   "source": [
    "myMatrix = np.random.randint(0, 10, size=(6,6,6))\n",
    "print (f'Максимальное число матрицы = {np.max(myMatrix)}')"
   ]
  },
  {
   "cell_type": "markdown",
   "metadata": {},
   "source": [
    "## Задача №7"
   ]
  },
  {
   "cell_type": "markdown",
   "metadata": {},
   "source": [
    "Напишите функцию, которая принимает на вход 2 `Numpy` матрицы, проверяет, можно ли их перемножить, и если можно - то перемножает и возвращает транспонированную результирующую матрицу."
   ]
  },
  {
   "cell_type": "code",
   "execution_count": 73,
   "metadata": {},
   "outputs": [
    {
     "name": "stdout",
     "output_type": "stream",
     "text": [
      "[[ 0  0  0]\n",
      " [ 5 11 17]]\n",
      "Нельзя перемножить\n"
     ]
    }
   ],
   "source": [
    "#Можно перемножить\n",
    "A = np.array ([[1, 2], [3, 4], [5, 6]])\n",
    "B = np.array ([[0, 1], [0, 2]])\n",
    "\n",
    "if A.shape[1] == B.shape[0]:\n",
    "    C = np.transpose (A @ B)\n",
    "    print (C)\n",
    "else: print (\"Нельзя перемножить\")\n",
    "\n",
    "#Нельзя перемножить\n",
    "A = np.array ([[1, 2], [3, 4], [5, 6]])\n",
    "B = np.array ([[0, 1], [0, 2], [0, 3]])\n",
    "\n",
    "if A.shape[1] == B.shape[0]:\n",
    "    C = np.transpose (A @ B)\n",
    "    print (C)\n",
    "else: print (\"Нельзя перемножить\")"
   ]
  },
  {
   "cell_type": "markdown",
   "metadata": {},
   "source": [
    "## Задача №8"
   ]
  },
  {
   "cell_type": "markdown",
   "metadata": {},
   "source": [
    "Дана функция:\n",
    "\n",
    "$$ f(x_1, x_2) = x_1^2 + 2x_2^2 + e^{x_1+x_2} $$\n",
    "\n",
    "Найдите минимум данной функции, завершив вычисления при погрешности $$\\varepsilon = 0.5 $$, выбрав в качестве начального приблежения точку `(0, 0)` и коэффициент шага $$ H=0.1. $$"
   ]
  },
  {
   "cell_type": "code",
   "execution_count": 74,
   "metadata": {},
   "outputs": [
    {
     "name": "stdout",
     "output_type": "stream",
     "text": [
      "Значение функции 0.7723\n",
      "x_min -0.3128\n",
      "y_min -0.1569\n",
      "Производная в x_min 0.0008\n",
      "Производная в y_min -0.0002\n",
      "Градиент 0.000963264\n"
     ]
    }
   ],
   "source": [
    "def func(x, y):\n",
    "    return x*x + 2.0 * y*y + np.exp(x + y)\n",
    "\n",
    "def f_x(func, x, y, eps=0.001):\n",
    "    return (func(x+eps, y) - func(x, y)) / eps\n",
    "\n",
    "def f_y(func, x, y, eps=0.001):\n",
    "    return (func(x, y+eps) - func(x, y)) / eps\n",
    "\n",
    "EPS = 0.001\n",
    "INIT = np.array([1.0, -1.75])\n",
    "LEARN_RATE = 0.05\n",
    "ITER = 10000\n",
    "\n",
    "X_prev = INIT\n",
    "delta = 1\n",
    "for i in range(ITER):\n",
    "    if delta > EPS:\n",
    "        fxx = f_x(func, X_prev[0], X_prev[1], eps=0.001)\n",
    "        fyy = f_y(func, X_prev[0], X_prev[1], eps=0.001)\n",
    "        grad = np.array([fxx, fyy])\n",
    "\n",
    "        X_next = X_prev - LEARN_RATE * grad    \n",
    "\n",
    "        delta = np.sqrt(np.sum(grad*grad))\n",
    "        \n",
    "        X_prev = X_next\n",
    "        \n",
    "    else:\n",
    "        break\n",
    "        \n",
    "print(f\"Значение функции {func(X_next[0], X_next[1]).round(4)}\")\n",
    "print(f\"x_min {X_next[0].round(4)}\")\n",
    "print(f\"y_min {X_next[1].round(4)}\")\n",
    "print(f\"Производная в x_min {f_x(func, X_next[0], X_next[1], eps=0.001).round(4)}\")\n",
    "print(f\"Производная в y_min {f_y(func, X_next[0], X_next[1], eps=0.001).round(4)}\")\n",
    "print(f\"Градиент {np.sqrt((grad**2).sum()).round(9)}\")"
   ]
  },
  {
   "cell_type": "code",
   "execution_count": null,
   "metadata": {},
   "outputs": [],
   "source": []
  }
 ],
 "metadata": {
  "kernelspec": {
   "display_name": "Python 3 (ipykernel)",
   "language": "python",
   "name": "python3"
  },
  "language_info": {
   "codemirror_mode": {
    "name": "ipython",
    "version": 3
   },
   "file_extension": ".py",
   "mimetype": "text/x-python",
   "name": "python",
   "nbconvert_exporter": "python",
   "pygments_lexer": "ipython3",
   "version": "3.8.12"
  }
 },
 "nbformat": 4,
 "nbformat_minor": 4
}
