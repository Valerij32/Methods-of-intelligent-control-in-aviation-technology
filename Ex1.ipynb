{
 "cells": [
  {
   "cell_type": "markdown",
   "id": "d05c1c16",
   "metadata": {},
   "source": [
    "Самостоятельное задание №1"
   ]
  },
  {
   "cell_type": "code",
   "execution_count": 2,
   "id": "41a1ecf1",
   "metadata": {},
   "outputs": [],
   "source": [
    "a = True\n",
    "b = False"
   ]
  },
  {
   "cell_type": "markdown",
   "id": "1f8d1eac",
   "metadata": {},
   "source": [
    "1. a and b"
   ]
  },
  {
   "cell_type": "code",
   "execution_count": 3,
   "id": "9b9387a6",
   "metadata": {},
   "outputs": [
    {
     "name": "stdout",
     "output_type": "stream",
     "text": [
      "False\n"
     ]
    }
   ],
   "source": [
    "result1 = a and b\n",
    "print(result1)"
   ]
  },
  {
   "cell_type": "markdown",
   "id": "5861f57f",
   "metadata": {},
   "source": [
    "2. (a and b) or b"
   ]
  },
  {
   "cell_type": "code",
   "execution_count": 4,
   "id": "0c49708d",
   "metadata": {},
   "outputs": [
    {
     "name": "stdout",
     "output_type": "stream",
     "text": [
      "False\n"
     ]
    }
   ],
   "source": [
    "result2 = (a and b) or b\n",
    "print(result2)"
   ]
  },
  {
   "cell_type": "markdown",
   "id": "8200b26c",
   "metadata": {},
   "source": [
    "3. (a and b) or not (a and b)"
   ]
  },
  {
   "cell_type": "code",
   "execution_count": 5,
   "id": "e5379804",
   "metadata": {},
   "outputs": [
    {
     "name": "stdout",
     "output_type": "stream",
     "text": [
      "True\n"
     ]
    }
   ],
   "source": [
    "result3 = (a and b) or not (a and b)\n",
    "print(result3)"
   ]
  },
  {
   "cell_type": "markdown",
   "id": "fd629434",
   "metadata": {},
   "source": [
    "4. a and b or not (a or b) or b"
   ]
  },
  {
   "cell_type": "code",
   "execution_count": 6,
   "id": "86392fad",
   "metadata": {},
   "outputs": [
    {
     "name": "stdout",
     "output_type": "stream",
     "text": [
      "False\n"
     ]
    }
   ],
   "source": [
    "result4 = a and b or not (a or b) or b\n",
    "print(result4)"
   ]
  },
  {
   "cell_type": "markdown",
   "id": "ec3456ce",
   "metadata": {},
   "source": [
    "5. b and b or not a and (a or b or a) or not (a or b)"
   ]
  },
  {
   "cell_type": "code",
   "execution_count": 7,
   "id": "564a1301",
   "metadata": {},
   "outputs": [
    {
     "name": "stdout",
     "output_type": "stream",
     "text": [
      "False\n"
     ]
    }
   ],
   "source": [
    "result5 = b and b or not a and (a or b or a) or not (a or b)\n",
    "print(result5)"
   ]
  },
  {
   "cell_type": "markdown",
   "id": "04131ba6",
   "metadata": {},
   "source": [
    "6. 1 << 2"
   ]
  },
  {
   "cell_type": "code",
   "execution_count": 8,
   "id": "8968bead",
   "metadata": {},
   "outputs": [
    {
     "name": "stdout",
     "output_type": "stream",
     "text": [
      "4\n"
     ]
    }
   ],
   "source": [
    "print(1 << 2)"
   ]
  },
  {
   "cell_type": "markdown",
   "id": "194b477d",
   "metadata": {},
   "source": [
    "7. 1 & 0 | 1 >> 1"
   ]
  },
  {
   "cell_type": "code",
   "execution_count": 9,
   "id": "926c6cf8",
   "metadata": {},
   "outputs": [
    {
     "name": "stdout",
     "output_type": "stream",
     "text": [
      "0\n"
     ]
    }
   ],
   "source": [
    "print(1 & 0 | 1 >> 1)"
   ]
  },
  {
   "cell_type": "markdown",
   "id": "a00136aa",
   "metadata": {},
   "source": [
    "8. 1 & 0 | 1 >> 0"
   ]
  },
  {
   "cell_type": "code",
   "execution_count": 10,
   "id": "6ce2a6fc",
   "metadata": {},
   "outputs": [
    {
     "name": "stdout",
     "output_type": "stream",
     "text": [
      "1\n"
     ]
    }
   ],
   "source": [
    "print(1 & 0 | 1 >> 0)"
   ]
  },
  {
   "cell_type": "markdown",
   "id": "064b5c0f",
   "metadata": {},
   "source": [
    "9. 0b101 & 0b111 ^ 0b111 | 0b010 "
   ]
  },
  {
   "cell_type": "code",
   "execution_count": 11,
   "id": "55c8542c",
   "metadata": {},
   "outputs": [
    {
     "name": "stdout",
     "output_type": "stream",
     "text": [
      "2\n"
     ]
    }
   ],
   "source": [
    "print(0b101 & 0b111 ^ 0b111 | 0b010) # числа в двоичной системе: 0b101=5, 0b111=6, 0b010=2"
   ]
  },
  {
   "cell_type": "code",
   "execution_count": null,
   "id": "447203c4",
   "metadata": {},
   "outputs": [],
   "source": []
  }
 ],
 "metadata": {
  "kernelspec": {
   "display_name": "Python 3 (ipykernel)",
   "language": "python",
   "name": "python3"
  },
  "language_info": {
   "codemirror_mode": {
    "name": "ipython",
    "version": 3
   },
   "file_extension": ".py",
   "mimetype": "text/x-python",
   "name": "python",
   "nbconvert_exporter": "python",
   "pygments_lexer": "ipython3",
   "version": "3.10.0"
  }
 },
 "nbformat": 4,
 "nbformat_minor": 5
}
