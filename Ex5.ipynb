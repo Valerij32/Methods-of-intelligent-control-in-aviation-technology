{
 "cells": [
  {
   "cell_type": "markdown",
   "id": "02628089",
   "metadata": {},
   "source": [
    "Самостоятельное задание №5"
   ]
  },
  {
   "cell_type": "markdown",
   "id": "4587dcd2",
   "metadata": {},
   "source": [
    "Задание 1"
   ]
  },
  {
   "cell_type": "markdown",
   "id": "cffa141b",
   "metadata": {},
   "source": [
    "Допишите функцию, которая принимает список, выбирает из него все элементы с четным индексом и возвращает их в виде списка."
   ]
  },
  {
   "cell_type": "code",
   "execution_count": 2,
   "id": "5b797d33",
   "metadata": {},
   "outputs": [],
   "source": [
    "word = ['B', 'a', 'l', 'a', 'l', 'a', 'i', 'k', 'a']"
   ]
  },
  {
   "cell_type": "code",
   "execution_count": 3,
   "id": "1fb733f3",
   "metadata": {},
   "outputs": [
    {
     "name": "stdout",
     "output_type": "stream",
     "text": [
      "['B', 'l', 'l', 'i', 'a']\n"
     ]
    }
   ],
   "source": [
    "a = []\n",
    "for i in range (int(len(word)/2+0.5)): #0.5 чтобы добавить последнюю букву если word - нечетное\n",
    "    a.append(word[i*2])\n",
    "print(a)"
   ]
  },
  {
   "cell_type": "markdown",
   "id": "05e9a370",
   "metadata": {},
   "source": [
    "Задание 2"
   ]
  },
  {
   "cell_type": "markdown",
   "id": "c514ee07",
   "metadata": {},
   "source": [
    "Допишите функцию, которая принимает список, выбирает из него все элементы, которые больше предыдущего и возвращает их в виде списка."
   ]
  },
  {
   "cell_type": "code",
   "execution_count": 84,
   "id": "d11428d9",
   "metadata": {},
   "outputs": [],
   "source": [
    "number = [1, 2, 3, 6, 5, 4, 8, 23, 43, 13]"
   ]
  },
  {
   "cell_type": "code",
   "execution_count": 85,
   "id": "52757f77",
   "metadata": {},
   "outputs": [
    {
     "name": "stdout",
     "output_type": "stream",
     "text": [
      "[2, 3, 6, 8, 23, 43]\n"
     ]
    }
   ],
   "source": [
    "a.clear()\n",
    "for i in range (len(number)):\n",
    "    if number[i-1] < number[i]:\n",
    "        a.append(number[i])\n",
    "print(a)"
   ]
  },
  {
   "cell_type": "markdown",
   "id": "68e1f006",
   "metadata": {},
   "source": [
    "Задание 3"
   ]
  },
  {
   "cell_type": "markdown",
   "id": "1ac45ae4",
   "metadata": {},
   "source": [
    "Допишите функцию, которая принимает список, меняет местами наибольший и наименьший элементы и возвращает этот список."
   ]
  },
  {
   "cell_type": "code",
   "execution_count": 93,
   "id": "a004d908",
   "metadata": {},
   "outputs": [
    {
     "name": "stdout",
     "output_type": "stream",
     "text": [
      "[1, 2, 3, 6, 5, 4, 8, 23, 43, 13]\n",
      "[43, 2, 3, 6, 5, 4, 8, 23, 1, 13]\n"
     ]
    }
   ],
   "source": [
    "a = number.copy()\n",
    "maxNumberIndex = number.index(max(number)) #переменная запоминающая номер максимального числа\n",
    "maxNumber = max(number) #переменная запоминающая максимальное число\n",
    "minNumberIndex = number.index(min(number)) #переменная запоминающая номер минимального числа\n",
    "minNumber = min(number) #переменная запоминающая минимальное число\n",
    "\n",
    "print(a)\n",
    "\n",
    "a.pop(maxNumberIndex) #удалить максимальное число\n",
    "a.insert(maxNumberIndex, min(number)) #вставить минимальное число на место максимального\n",
    "a.pop(minNumberIndex) #удалить минимальное число\n",
    "a.insert(minNumberIndex, maxNumber) #вставить максимальное число на место минимального\n",
    "\n",
    "number = a.copy()\n",
    "print(number)"
   ]
  },
  {
   "cell_type": "code",
   "execution_count": null,
   "id": "676701d7",
   "metadata": {},
   "outputs": [],
   "source": []
  }
 ],
 "metadata": {
  "kernelspec": {
   "display_name": "Python 3 (ipykernel)",
   "language": "python",
   "name": "python3"
  },
  "language_info": {
   "codemirror_mode": {
    "name": "ipython",
    "version": 3
   },
   "file_extension": ".py",
   "mimetype": "text/x-python",
   "name": "python",
   "nbconvert_exporter": "python",
   "pygments_lexer": "ipython3",
   "version": "3.9.7"
  }
 },
 "nbformat": 4,
 "nbformat_minor": 5
}
