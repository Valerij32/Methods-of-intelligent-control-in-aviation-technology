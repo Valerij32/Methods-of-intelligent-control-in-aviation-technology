{
 "cells": [
  {
   "cell_type": "markdown",
   "id": "2b9aa976",
   "metadata": {},
   "source": [
    "Задание 1: Один самолет вылетел из Москвы, и должен совершить посадку в 5 городах. Необходимо узнать, количество городов, в котрых может приземлиться в первый, второй, третий город."
   ]
  },
  {
   "cell_type": "code",
   "execution_count": 1,
   "id": "642386c1",
   "metadata": {},
   "outputs": [],
   "source": [
    "def factorial(n):\n",
    "    if n == 1: return 1\n",
    "    else: return n * factorial(n-1)"
   ]
  },
  {
   "cell_type": "code",
   "execution_count": 6,
   "id": "586c1d63",
   "metadata": {},
   "outputs": [
    {
     "name": "stdout",
     "output_type": "stream",
     "text": [
      "60.0%\n"
     ]
    }
   ],
   "source": [
    "print (f'{factorial(5)/factorial(5-3)}%')"
   ]
  },
  {
   "cell_type": "markdown",
   "id": "7200523f",
   "metadata": {},
   "source": [
    "Задание 2: Осьминог Пауль 16 раз пробовал угадать победителя футбольного матча. 14 раз он угадал правильно, 2 раза ошибся. Проверьте гипотезу H0: Пауль выбирает победителя футбольного матча случайно. Сделайте вывод. (сложная задача)"
   ]
  },
  {
   "cell_type": "code",
   "execution_count": 9,
   "id": "dcdd01ad",
   "metadata": {},
   "outputs": [],
   "source": [
    "c = 16 #кол-во подбрасываний"
   ]
  },
  {
   "cell_type": "code",
   "execution_count": 10,
   "id": "e719f99b",
   "metadata": {},
   "outputs": [],
   "source": [
    "right = 14 #кол-во угаданных вариантов"
   ]
  },
  {
   "cell_type": "code",
   "execution_count": 11,
   "id": "f8dca46a",
   "metadata": {},
   "outputs": [],
   "source": [
    "def factorial (n):\n",
    "    if n == 1: return 1\n",
    "    else: return n * factorial (n-1)"
   ]
  },
  {
   "cell_type": "code",
   "execution_count": 16,
   "id": "3e8d2920",
   "metadata": {},
   "outputs": [],
   "source": [
    "answer = factorial(c)/(factorial(right)*factorial(c-right))/c**right"
   ]
  },
  {
   "cell_type": "code",
   "execution_count": 19,
   "id": "c517784b",
   "metadata": {},
   "outputs": [
    {
     "name": "stdout",
     "output_type": "stream",
     "text": [
      "1.6653345369377348e-15 % - вероятность данного события\n"
     ]
    }
   ],
   "source": [
    "print (f'{answer} % - вероятность данного события') #вероятность данного события"
   ]
  },
  {
   "cell_type": "code",
   "execution_count": null,
   "id": "9d22c9f5",
   "metadata": {},
   "outputs": [],
   "source": []
  }
 ],
 "metadata": {
  "kernelspec": {
   "display_name": "Python 3 (ipykernel)",
   "language": "python",
   "name": "python3"
  },
  "language_info": {
   "codemirror_mode": {
    "name": "ipython",
    "version": 3
   },
   "file_extension": ".py",
   "mimetype": "text/x-python",
   "name": "python",
   "nbconvert_exporter": "python",
   "pygments_lexer": "ipython3",
   "version": "3.8.12"
  }
 },
 "nbformat": 4,
 "nbformat_minor": 5
}
