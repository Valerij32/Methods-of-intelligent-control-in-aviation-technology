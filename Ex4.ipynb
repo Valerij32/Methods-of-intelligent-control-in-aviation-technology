{
 "cells": [
  {
   "cell_type": "markdown",
   "id": "57bfb4e0",
   "metadata": {},
   "source": [
    "Самостоятельное задание №4"
   ]
  },
  {
   "cell_type": "code",
   "execution_count": 1,
   "id": "9fc85449",
   "metadata": {},
   "outputs": [],
   "source": [
    "a = \"Lambdadambda\""
   ]
  },
  {
   "cell_type": "markdown",
   "id": "9caad736",
   "metadata": {},
   "source": [
    "1. Вывести третий символ этой строки"
   ]
  },
  {
   "cell_type": "code",
   "execution_count": 3,
   "id": "9d04ae2c",
   "metadata": {},
   "outputs": [
    {
     "name": "stdout",
     "output_type": "stream",
     "text": [
      "m\n"
     ]
    }
   ],
   "source": [
    "print(a[2])"
   ]
  },
  {
   "cell_type": "markdown",
   "id": "647e5ac2",
   "metadata": {},
   "source": [
    "2. Вывести предпоследний символ этой строки"
   ]
  },
  {
   "cell_type": "code",
   "execution_count": 7,
   "id": "5afa1ab4",
   "metadata": {},
   "outputs": [
    {
     "name": "stdout",
     "output_type": "stream",
     "text": [
      "d\n"
     ]
    }
   ],
   "source": [
    "print(a[len(a)-2])"
   ]
  },
  {
   "cell_type": "markdown",
   "id": "03789c45",
   "metadata": {},
   "source": [
    "3. Вывести первые пять символов этой строки"
   ]
  },
  {
   "cell_type": "code",
   "execution_count": 11,
   "id": "ccf38791",
   "metadata": {},
   "outputs": [
    {
     "name": "stdout",
     "output_type": "stream",
     "text": [
      "Lambd"
     ]
    }
   ],
   "source": [
    "for i in range (5):\n",
    "    print(a[i], end=\"\")"
   ]
  },
  {
   "cell_type": "markdown",
   "id": "768d1924",
   "metadata": {},
   "source": [
    "4. Вывести строку, кроме последних двух символов"
   ]
  },
  {
   "cell_type": "code",
   "execution_count": 13,
   "id": "32ed5195",
   "metadata": {},
   "outputs": [
    {
     "name": "stdout",
     "output_type": "stream",
     "text": [
      "Lambdadamb"
     ]
    }
   ],
   "source": [
    "for i in range (len(a)-2):\n",
    "    print(a[i], end=\"\")"
   ]
  },
  {
   "cell_type": "markdown",
   "id": "af025fa1",
   "metadata": {},
   "source": [
    "5. Вывести все символы с четными индексами (считайте, что 0 - четный индекс)"
   ]
  },
  {
   "cell_type": "code",
   "execution_count": 29,
   "id": "689e6d48",
   "metadata": {},
   "outputs": [
    {
     "name": "stdout",
     "output_type": "stream",
     "text": [
      "Lmddmd"
     ]
    }
   ],
   "source": [
    "for i in range (int(len(a)/2)):\n",
    "    print(a[i*2], end=\"\")"
   ]
  },
  {
   "cell_type": "markdown",
   "id": "98c34331",
   "metadata": {},
   "source": [
    "6. Вывести все символы с нечетными индексами"
   ]
  },
  {
   "cell_type": "code",
   "execution_count": 30,
   "id": "2ffbf21f",
   "metadata": {},
   "outputs": [
    {
     "name": "stdout",
     "output_type": "stream",
     "text": [
      "abaaba"
     ]
    }
   ],
   "source": [
    "for i in range (int(len(a)/2)):\n",
    "    print(a[i*2+1], end=\"\")"
   ]
  },
  {
   "cell_type": "markdown",
   "id": "8ffcdac9",
   "metadata": {},
   "source": [
    "7. Вывести все символы в обратном порядке"
   ]
  },
  {
   "cell_type": "code",
   "execution_count": 34,
   "id": "0ccddd29",
   "metadata": {},
   "outputs": [
    {
     "name": "stdout",
     "output_type": "stream",
     "text": [
      "adbmadadbmaL"
     ]
    }
   ],
   "source": [
    "for i in range (len(a)):\n",
    "    print(a[len(a)-i-1], end=\"\")"
   ]
  },
  {
   "cell_type": "markdown",
   "id": "3ac8878f",
   "metadata": {},
   "source": [
    "8. Вывести все символы строки через один в обратном порядке, начиная с последнего"
   ]
  },
  {
   "cell_type": "code",
   "execution_count": 45,
   "id": "b10356a1",
   "metadata": {},
   "outputs": [
    {
     "name": "stdout",
     "output_type": "stream",
     "text": [
      "abaabadmddmL"
     ]
    }
   ],
   "source": [
    "for i in range (int(len(a)/2)):\n",
    "    print(a[len(a)-1-2*i], end=\"\") #сначала четные с конца\n",
    "for i in range (int(len(a)/2)):\n",
    "    print(a[len(a)-2-2*i], end=\"\") #нечетные с конца"
   ]
  },
  {
   "cell_type": "markdown",
   "id": "2afec1ac",
   "metadata": {},
   "source": [
    "9. Вывести длину данной строки"
   ]
  },
  {
   "cell_type": "code",
   "execution_count": 48,
   "id": "91c9c64c",
   "metadata": {},
   "outputs": [
    {
     "name": "stdout",
     "output_type": "stream",
     "text": [
      "12\n"
     ]
    }
   ],
   "source": [
    "print(len(a))"
   ]
  },
  {
   "cell_type": "code",
   "execution_count": null,
   "id": "dfa3b9ee",
   "metadata": {},
   "outputs": [],
   "source": []
  }
 ],
 "metadata": {
  "kernelspec": {
   "display_name": "Python 3 (ipykernel)",
   "language": "python",
   "name": "python3"
  },
  "language_info": {
   "codemirror_mode": {
    "name": "ipython",
    "version": 3
   },
   "file_extension": ".py",
   "mimetype": "text/x-python",
   "name": "python",
   "nbconvert_exporter": "python",
   "pygments_lexer": "ipython3",
   "version": "3.8.12"
  }
 },
 "nbformat": 4,
 "nbformat_minor": 5
}
