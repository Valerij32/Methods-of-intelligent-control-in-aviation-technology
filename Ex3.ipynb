{
 "cells": [
  {
   "cell_type": "markdown",
   "id": "858f030f",
   "metadata": {},
   "source": [
    "Самостоятельное задание №3"
   ]
  },
  {
   "cell_type": "markdown",
   "id": "80f06077",
   "metadata": {},
   "source": [
    "Задание 1"
   ]
  },
  {
   "cell_type": "markdown",
   "id": "1b1ee5c4",
   "metadata": {},
   "source": [
    "Допишите функцию, которая принимает массив из 10 чисел и возвращает их сумму."
   ]
  },
  {
   "cell_type": "code",
   "execution_count": 6,
   "id": "e3362b53",
   "metadata": {},
   "outputs": [
    {
     "name": "stdout",
     "output_type": "stream",
     "text": [
      "array sum = 45\n"
     ]
    }
   ],
   "source": [
    "vsum = 0\n",
    "for i in range (0,10):\n",
    "    vsum += i\n",
    "print (\"array sum =\",vsum)\n",
    "    "
   ]
  },
  {
   "cell_type": "markdown",
   "id": "159f7fd4",
   "metadata": {},
   "source": [
    "Второй вариант решения этого задания"
   ]
  },
  {
   "cell_type": "code",
   "execution_count": null,
   "id": "96ca0cc0",
   "metadata": {},
   "outputs": [],
   "source": [
    "n = 10\n",
    "a = [0] * n\n",
    "for i in range(n):\n",
    "    a[i] = int(input('Введите массив из 10 чисел '))\n",
    "print('Sum =', sum(a))"
   ]
  },
  {
   "cell_type": "markdown",
   "id": "c485e81b",
   "metadata": {},
   "source": [
    "\n",
    "Задание 2"
   ]
  },
  {
   "cell_type": "markdown",
   "id": "4abcfbda",
   "metadata": {},
   "source": [
    "Допишите функцию, которая принимает массив чисел и возвращает количество чисел равных нулю."
   ]
  },
  {
   "cell_type": "code",
   "execution_count": 15,
   "id": "6342cbe8",
   "metadata": {},
   "outputs": [
    {
     "name": "stdout",
     "output_type": "stream",
     "text": [
      "3\n"
     ]
    }
   ],
   "source": [
    "a = (1, 3, 0, 0, 3, 0, 42, 4, 12, 1)\n",
    "ammountZero = 0 #переменная - количество нулей\n",
    "for i in a:\n",
    "    if i==0: #проверка, есть ли 0 в массиве\n",
    "        ammountZero += 1\n",
    "print (ammountZero)"
   ]
  },
  {
   "cell_type": "markdown",
   "id": "9a6ca4d2",
   "metadata": {},
   "source": [
    "Второй вариант решения этого задания"
   ]
  },
  {
   "cell_type": "code",
   "execution_count": 11,
   "id": "d25f42a0",
   "metadata": {},
   "outputs": [
    {
     "name": "stdout",
     "output_type": "stream",
     "text": [
      "введите n 3\n",
      "введите элемент массива 2\n",
      "введите элемент массива 0\n",
      "введите элемент массива 0\n",
      "2\n"
     ]
    }
   ],
   "source": [
    "count = 0\n",
    "n = int(input('введите n '))\n",
    "a = [0] * n\n",
    "for i in range(n):\n",
    "    a[i] = int(input('введите элемент массива '))\n",
    "for i in a:\n",
    "    if i == 0:\n",
    "        count += 1\n",
    "print(count)"
   ]
  },
  {
   "cell_type": "markdown",
   "id": "4a8873a8",
   "metadata": {},
   "source": [
    "Задание 3"
   ]
  },
  {
   "cell_type": "markdown",
   "id": "c2401d71",
   "metadata": {},
   "source": [
    "Напишите программу, в которой задается натуральное число n и выводится лестница из n ступенек, i-я ступенька должна состоять из чисел от 1 до i без пробелов."
   ]
  },
  {
   "cell_type": "code",
   "execution_count": 14,
   "id": "8e373826",
   "metadata": {},
   "outputs": [
    {
     "name": "stdout",
     "output_type": "stream",
     "text": [
      "введите число ступенек 6\n",
      "16\n",
      "126\n",
      "1236\n",
      "12346\n",
      "123456\n",
      "1234566\n"
     ]
    }
   ],
   "source": [
    "n = int(input('введите число ступенек '))\n",
    "for i in range(n):\n",
    "    for j in range(1, i+2):\n",
    "        print(j, end='')\n",
    "    print(n)\n"
   ]
  },
  {
   "cell_type": "markdown",
   "id": "00b4ee2c",
   "metadata": {},
   "source": [
    "Задание 4"
   ]
  },
  {
   "cell_type": "markdown",
   "id": "bdfd7017",
   "metadata": {},
   "source": [
    "Напишите программу, в которой задается натуральное число n и выводится пирамида из n ступенек, i-я ступень должна состоять из чисел от 1 до i и обратно без пробелов."
   ]
  },
  {
   "cell_type": "code",
   "execution_count": 16,
   "id": "38f036b9",
   "metadata": {},
   "outputs": [
    {
     "name": "stdout",
     "output_type": "stream",
     "text": [
      "введите число ступенек4\n",
      "    \n",
      "   1\n",
      "  121\n",
      " 12321\n",
      "1234321\n"
     ]
    }
   ],
   "source": [
    "n = int(input('введите число ступенек')) + 1\n",
    "for i in range(1, n + 1):\n",
    "    print(' ' * (n - i), end='')\n",
    "    print(*range(1, i), *range(1, i - 1)[::-1], sep='')"
   ]
  },
  {
   "cell_type": "markdown",
   "id": "649a7229",
   "metadata": {},
   "source": [
    "Задание 5"
   ]
  },
  {
   "cell_type": "markdown",
   "id": "32ae18c4",
   "metadata": {},
   "source": [
    "Напишите программу, в которой задается натуральное число n и выводится ромб из n*2-1 ступенек, i-я ступень должна состоять из чисел от 1 до i и обратно без пробелов."
   ]
  },
  {
   "cell_type": "code",
   "execution_count": 17,
   "id": "be59ded7",
   "metadata": {},
   "outputs": [
    {
     "name": "stdout",
     "output_type": "stream",
     "text": [
      "4\n",
      "    \n",
      "   1\n",
      "  121\n",
      " 12321\n",
      "1234321\n",
      " 12321\n",
      "  121\n",
      "   1\n",
      "    \n",
      "     \n",
      "      \n"
     ]
    }
   ],
   "source": [
    "n = int(input()) + 1\n",
    "for i in range(1, n + n + 2):\n",
    "    if i <= n:\n",
    "        print(' ' * (n - i), end='')\n",
    "        print(*range(1, i), *range(1, i - 1)[::-1], sep='')\n",
    "    else:\n",
    "        print(' ' * (i - n), end='')\n",
    "        print(*range(1, n + n - i), *range(1, n + n - i - 1)[::-1], sep='')"
   ]
  },
  {
   "cell_type": "code",
   "execution_count": null,
   "id": "ea85bc21",
   "metadata": {},
   "outputs": [],
   "source": []
  }
 ],
 "metadata": {
  "kernelspec": {
   "display_name": "Python 3 (ipykernel)",
   "language": "python",
   "name": "python3"
  },
  "language_info": {
   "codemirror_mode": {
    "name": "ipython",
    "version": 3
   },
   "file_extension": ".py",
   "mimetype": "text/x-python",
   "name": "python",
   "nbconvert_exporter": "python",
   "pygments_lexer": "ipython3",
   "version": "3.10.0"
  }
 },
 "nbformat": 4,
 "nbformat_minor": 5
}
